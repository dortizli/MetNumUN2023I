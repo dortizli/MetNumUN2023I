{
  "nbformat": 4,
  "nbformat_minor": 0,
  "metadata": {
    "colab": {
      "provenance": [],
      "authorship_tag": "ABX9TyNkdVyjnic5pl9D1thcYvwa",
      "include_colab_link": true
    },
    "kernelspec": {
      "name": "python3",
      "display_name": "Python 3"
    },
    "language_info": {
      "name": "python"
    }
  },
  "cells": [
    {
      "cell_type": "markdown",
      "metadata": {
        "id": "view-in-github",
        "colab_type": "text"
      },
      "source": [
        "<a href=\"https://colab.research.google.com/github/dortizli/MetNumUN2023I/blob/main/Quiz_1/dortizli_Quiz_1.ipynb\" target=\"_parent\"><img src=\"https://colab.research.google.com/assets/colab-badge.svg\" alt=\"Open In Colab\"/></a>"
      ]
    },
    {
      "cell_type": "code",
      "execution_count": 1,
      "metadata": {
        "id": "Ehd2_RB92tIR"
      },
      "outputs": [],
      "source": [
        "#Do not change this function's name, parameters or output format. It will be used in automatic grading.\n",
        "def FizzBuzz(x):\n",
        "  if x%3 == 0 and x%5 !=0:\n",
        "    return \"Fizz!\"\n",
        "  elif x%3 !=0 and x%5 == 0:\n",
        "    return  \"Buzz!\"\n",
        "  elif x%3 == 0 and x%5 == 0:\n",
        "    return  \"FizzBuzz!\"\n",
        "  else:\n",
        "    return  \"...\"\n",
        "\n",
        "    return answer"
      ]
    },
    {
      "cell_type": "code",
      "source": [
        "#Do not change this function's name, parameters or output format. It will be used in automatic grading.\n",
        "def FizzBuzzList(n):\n",
        "    ans = [0] * n\n",
        "    for a in range(1,n+1):\n",
        "      ans[a-1] = FizzBuzz(a)\n",
        "      #print(a)\n",
        "    return ans"
      ],
      "metadata": {
        "id": "Hhl5fYTy20ay"
      },
      "execution_count": 2,
      "outputs": []
    },
    {
      "cell_type": "code",
      "source": [
        "#Do not change this function's name, parameters or output format. It will be used in automatic grading.\n",
        "\n",
        "import numpy as np\n",
        "\n",
        "def standarize(X):\n",
        "  X_standarized = (X - np.mean(X)) / np.std(X) # only one line of code\n",
        "  return X_standarized"
      ],
      "metadata": {
        "id": "2JOd1tmI27jl"
      },
      "execution_count": 3,
      "outputs": []
    },
    {
      "cell_type": "code",
      "source": [
        "#Do not change this function's name, parameters or output format. It will be used in automatic grading.\n",
        "\n",
        "import numpy as np\n",
        "\n",
        "def main_diagonal_matrix(A):\n",
        "  D = np.diag(np.diag(A.astype(float)))# only one line of code\n",
        "  return D"
      ],
      "metadata": {
        "id": "Z4dv2nqR2_Hx"
      },
      "execution_count": 4,
      "outputs": []
    }
  ]
}